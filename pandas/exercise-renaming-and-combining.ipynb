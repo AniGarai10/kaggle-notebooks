{
 "cells": [
  {
   "cell_type": "markdown",
   "id": "ec7f1f97",
   "metadata": {
    "papermill": {
     "duration": 0.008848,
     "end_time": "2024-04-27T11:41:13.901595",
     "exception": false,
     "start_time": "2024-04-27T11:41:13.892747",
     "status": "completed"
    },
    "tags": []
   },
   "source": [
    "**This notebook is an exercise in the [Pandas](https://www.kaggle.com/learn/pandas) course.  You can reference the tutorial at [this link](https://www.kaggle.com/residentmario/renaming-and-combining).**\n",
    "\n",
    "---\n"
   ]
  },
  {
   "cell_type": "markdown",
   "id": "b9e9bf0a",
   "metadata": {
    "papermill": {
     "duration": 0.007029,
     "end_time": "2024-04-27T11:41:13.916806",
     "exception": false,
     "start_time": "2024-04-27T11:41:13.909777",
     "status": "completed"
    },
    "tags": []
   },
   "source": [
    "# Introduction\n",
    "\n",
    "Run the following cell to load your data and some utility functions."
   ]
  },
  {
   "cell_type": "code",
   "execution_count": 1,
   "id": "57d91f95",
   "metadata": {
    "execution": {
     "iopub.execute_input": "2024-04-27T11:41:13.934312Z",
     "iopub.status.busy": "2024-04-27T11:41:13.933596Z",
     "iopub.status.idle": "2024-04-27T11:41:19.825050Z",
     "shell.execute_reply": "2024-04-27T11:41:19.823880Z"
    },
    "papermill": {
     "duration": 5.903065,
     "end_time": "2024-04-27T11:41:19.827710",
     "exception": false,
     "start_time": "2024-04-27T11:41:13.924645",
     "status": "completed"
    },
    "tags": []
   },
   "outputs": [
    {
     "name": "stdout",
     "output_type": "stream",
     "text": [
      "Setup complete.\n"
     ]
    }
   ],
   "source": [
    "import pandas as pd\n",
    "\n",
    "reviews = pd.read_csv(\"../input/wine-reviews/winemag-data-130k-v2.csv\", index_col=0)\n",
    "\n",
    "from learntools.core import binder; binder.bind(globals())\n",
    "from learntools.pandas.renaming_and_combining import *\n",
    "print(\"Setup complete.\")"
   ]
  },
  {
   "cell_type": "markdown",
   "id": "f5123158",
   "metadata": {
    "papermill": {
     "duration": 0.007102,
     "end_time": "2024-04-27T11:41:19.842384",
     "exception": false,
     "start_time": "2024-04-27T11:41:19.835282",
     "status": "completed"
    },
    "tags": []
   },
   "source": [
    "# Exercises\n",
    "\n",
    "View the first several lines of your data by running the cell below:"
   ]
  },
  {
   "cell_type": "code",
   "execution_count": 2,
   "id": "c69eb86f",
   "metadata": {
    "execution": {
     "iopub.execute_input": "2024-04-27T11:41:19.859866Z",
     "iopub.status.busy": "2024-04-27T11:41:19.859482Z",
     "iopub.status.idle": "2024-04-27T11:41:19.884745Z",
     "shell.execute_reply": "2024-04-27T11:41:19.883394Z"
    },
    "papermill": {
     "duration": 0.037289,
     "end_time": "2024-04-27T11:41:19.887617",
     "exception": false,
     "start_time": "2024-04-27T11:41:19.850328",
     "status": "completed"
    },
    "tags": []
   },
   "outputs": [
    {
     "data": {
      "text/html": [
       "<div>\n",
       "<style scoped>\n",
       "    .dataframe tbody tr th:only-of-type {\n",
       "        vertical-align: middle;\n",
       "    }\n",
       "\n",
       "    .dataframe tbody tr th {\n",
       "        vertical-align: top;\n",
       "    }\n",
       "\n",
       "    .dataframe thead th {\n",
       "        text-align: right;\n",
       "    }\n",
       "</style>\n",
       "<table border=\"1\" class=\"dataframe\">\n",
       "  <thead>\n",
       "    <tr style=\"text-align: right;\">\n",
       "      <th></th>\n",
       "      <th>country</th>\n",
       "      <th>description</th>\n",
       "      <th>designation</th>\n",
       "      <th>points</th>\n",
       "      <th>price</th>\n",
       "      <th>province</th>\n",
       "      <th>region_1</th>\n",
       "      <th>region_2</th>\n",
       "      <th>taster_name</th>\n",
       "      <th>taster_twitter_handle</th>\n",
       "      <th>title</th>\n",
       "      <th>variety</th>\n",
       "      <th>winery</th>\n",
       "    </tr>\n",
       "  </thead>\n",
       "  <tbody>\n",
       "    <tr>\n",
       "      <th>0</th>\n",
       "      <td>Italy</td>\n",
       "      <td>Aromas include tropical fruit, broom, brimston...</td>\n",
       "      <td>Vulkà Bianco</td>\n",
       "      <td>87</td>\n",
       "      <td>NaN</td>\n",
       "      <td>Sicily &amp; Sardinia</td>\n",
       "      <td>Etna</td>\n",
       "      <td>NaN</td>\n",
       "      <td>Kerin O’Keefe</td>\n",
       "      <td>@kerinokeefe</td>\n",
       "      <td>Nicosia 2013 Vulkà Bianco  (Etna)</td>\n",
       "      <td>White Blend</td>\n",
       "      <td>Nicosia</td>\n",
       "    </tr>\n",
       "    <tr>\n",
       "      <th>1</th>\n",
       "      <td>Portugal</td>\n",
       "      <td>This is ripe and fruity, a wine that is smooth...</td>\n",
       "      <td>Avidagos</td>\n",
       "      <td>87</td>\n",
       "      <td>15.0</td>\n",
       "      <td>Douro</td>\n",
       "      <td>NaN</td>\n",
       "      <td>NaN</td>\n",
       "      <td>Roger Voss</td>\n",
       "      <td>@vossroger</td>\n",
       "      <td>Quinta dos Avidagos 2011 Avidagos Red (Douro)</td>\n",
       "      <td>Portuguese Red</td>\n",
       "      <td>Quinta dos Avidagos</td>\n",
       "    </tr>\n",
       "    <tr>\n",
       "      <th>2</th>\n",
       "      <td>US</td>\n",
       "      <td>Tart and snappy, the flavors of lime flesh and...</td>\n",
       "      <td>NaN</td>\n",
       "      <td>87</td>\n",
       "      <td>14.0</td>\n",
       "      <td>Oregon</td>\n",
       "      <td>Willamette Valley</td>\n",
       "      <td>Willamette Valley</td>\n",
       "      <td>Paul Gregutt</td>\n",
       "      <td>@paulgwine</td>\n",
       "      <td>Rainstorm 2013 Pinot Gris (Willamette Valley)</td>\n",
       "      <td>Pinot Gris</td>\n",
       "      <td>Rainstorm</td>\n",
       "    </tr>\n",
       "    <tr>\n",
       "      <th>3</th>\n",
       "      <td>US</td>\n",
       "      <td>Pineapple rind, lemon pith and orange blossom ...</td>\n",
       "      <td>Reserve Late Harvest</td>\n",
       "      <td>87</td>\n",
       "      <td>13.0</td>\n",
       "      <td>Michigan</td>\n",
       "      <td>Lake Michigan Shore</td>\n",
       "      <td>NaN</td>\n",
       "      <td>Alexander Peartree</td>\n",
       "      <td>NaN</td>\n",
       "      <td>St. Julian 2013 Reserve Late Harvest Riesling ...</td>\n",
       "      <td>Riesling</td>\n",
       "      <td>St. Julian</td>\n",
       "    </tr>\n",
       "    <tr>\n",
       "      <th>4</th>\n",
       "      <td>US</td>\n",
       "      <td>Much like the regular bottling from 2012, this...</td>\n",
       "      <td>Vintner's Reserve Wild Child Block</td>\n",
       "      <td>87</td>\n",
       "      <td>65.0</td>\n",
       "      <td>Oregon</td>\n",
       "      <td>Willamette Valley</td>\n",
       "      <td>Willamette Valley</td>\n",
       "      <td>Paul Gregutt</td>\n",
       "      <td>@paulgwine</td>\n",
       "      <td>Sweet Cheeks 2012 Vintner's Reserve Wild Child...</td>\n",
       "      <td>Pinot Noir</td>\n",
       "      <td>Sweet Cheeks</td>\n",
       "    </tr>\n",
       "  </tbody>\n",
       "</table>\n",
       "</div>"
      ],
      "text/plain": [
       "    country                                        description  \\\n",
       "0     Italy  Aromas include tropical fruit, broom, brimston...   \n",
       "1  Portugal  This is ripe and fruity, a wine that is smooth...   \n",
       "2        US  Tart and snappy, the flavors of lime flesh and...   \n",
       "3        US  Pineapple rind, lemon pith and orange blossom ...   \n",
       "4        US  Much like the regular bottling from 2012, this...   \n",
       "\n",
       "                          designation  points  price           province  \\\n",
       "0                        Vulkà Bianco      87    NaN  Sicily & Sardinia   \n",
       "1                            Avidagos      87   15.0              Douro   \n",
       "2                                 NaN      87   14.0             Oregon   \n",
       "3                Reserve Late Harvest      87   13.0           Michigan   \n",
       "4  Vintner's Reserve Wild Child Block      87   65.0             Oregon   \n",
       "\n",
       "              region_1           region_2         taster_name  \\\n",
       "0                 Etna                NaN       Kerin O’Keefe   \n",
       "1                  NaN                NaN          Roger Voss   \n",
       "2    Willamette Valley  Willamette Valley        Paul Gregutt   \n",
       "3  Lake Michigan Shore                NaN  Alexander Peartree   \n",
       "4    Willamette Valley  Willamette Valley        Paul Gregutt   \n",
       "\n",
       "  taster_twitter_handle                                              title  \\\n",
       "0          @kerinokeefe                  Nicosia 2013 Vulkà Bianco  (Etna)   \n",
       "1            @vossroger      Quinta dos Avidagos 2011 Avidagos Red (Douro)   \n",
       "2           @paulgwine       Rainstorm 2013 Pinot Gris (Willamette Valley)   \n",
       "3                   NaN  St. Julian 2013 Reserve Late Harvest Riesling ...   \n",
       "4           @paulgwine   Sweet Cheeks 2012 Vintner's Reserve Wild Child...   \n",
       "\n",
       "          variety               winery  \n",
       "0     White Blend              Nicosia  \n",
       "1  Portuguese Red  Quinta dos Avidagos  \n",
       "2      Pinot Gris            Rainstorm  \n",
       "3        Riesling           St. Julian  \n",
       "4      Pinot Noir         Sweet Cheeks  "
      ]
     },
     "execution_count": 2,
     "metadata": {},
     "output_type": "execute_result"
    }
   ],
   "source": [
    "reviews.head()"
   ]
  },
  {
   "cell_type": "markdown",
   "id": "79f79d45",
   "metadata": {
    "papermill": {
     "duration": 0.007502,
     "end_time": "2024-04-27T11:41:19.903253",
     "exception": false,
     "start_time": "2024-04-27T11:41:19.895751",
     "status": "completed"
    },
    "tags": []
   },
   "source": [
    "## 1.\n",
    "`region_1` and `region_2` are pretty uninformative names for locale columns in the dataset. Create a copy of `reviews` with these columns renamed to `region` and `locale`, respectively."
   ]
  },
  {
   "cell_type": "code",
   "execution_count": 3,
   "id": "050246d5",
   "metadata": {
    "execution": {
     "iopub.execute_input": "2024-04-27T11:41:19.920949Z",
     "iopub.status.busy": "2024-04-27T11:41:19.920260Z",
     "iopub.status.idle": "2024-04-27T11:41:19.944614Z",
     "shell.execute_reply": "2024-04-27T11:41:19.943790Z"
    },
    "papermill": {
     "duration": 0.036062,
     "end_time": "2024-04-27T11:41:19.947204",
     "exception": false,
     "start_time": "2024-04-27T11:41:19.911142",
     "status": "completed"
    },
    "tags": []
   },
   "outputs": [
    {
     "data": {
      "application/javascript": [
       "parent.postMessage({\"jupyterEvent\": \"custom.exercise_interaction\", \"data\": {\"outcomeType\": 1, \"valueTowardsCompletion\": 0.25, \"interactionType\": 1, \"questionType\": 1, \"questionId\": \"1_RenameCols\", \"learnToolsVersion\": \"0.3.4\", \"failureMessage\": \"\", \"exceptionClass\": \"\", \"trace\": \"\"}}, \"*\")"
      ],
      "text/plain": [
       "<IPython.core.display.Javascript object>"
      ]
     },
     "metadata": {},
     "output_type": "display_data"
    },
    {
     "data": {
      "text/markdown": [
       "<span style=\"color:#33cc33\">Correct</span>"
      ],
      "text/plain": [
       "Correct"
      ]
     },
     "metadata": {},
     "output_type": "display_data"
    }
   ],
   "source": [
    "# Your code here\n",
    "renamed = reviews.rename(columns={'region_1': 'region', 'region_2': 'locale'})\n",
    "\n",
    "# Check your answer\n",
    "q1.check()"
   ]
  },
  {
   "cell_type": "code",
   "execution_count": 4,
   "id": "f235b61f",
   "metadata": {
    "execution": {
     "iopub.execute_input": "2024-04-27T11:41:19.966234Z",
     "iopub.status.busy": "2024-04-27T11:41:19.965524Z",
     "iopub.status.idle": "2024-04-27T11:41:19.970040Z",
     "shell.execute_reply": "2024-04-27T11:41:19.968682Z"
    },
    "papermill": {
     "duration": 0.017201,
     "end_time": "2024-04-27T11:41:19.972718",
     "exception": false,
     "start_time": "2024-04-27T11:41:19.955517",
     "status": "completed"
    },
    "tags": []
   },
   "outputs": [],
   "source": [
    "#q1.hint()\n",
    "#q1.solution()"
   ]
  },
  {
   "cell_type": "markdown",
   "id": "0d987741",
   "metadata": {
    "papermill": {
     "duration": 0.008183,
     "end_time": "2024-04-27T11:41:19.989726",
     "exception": false,
     "start_time": "2024-04-27T11:41:19.981543",
     "status": "completed"
    },
    "tags": []
   },
   "source": [
    "## 2.\n",
    "Set the index name in the dataset to `wines`."
   ]
  },
  {
   "cell_type": "code",
   "execution_count": 5,
   "id": "43fdef3d",
   "metadata": {
    "execution": {
     "iopub.execute_input": "2024-04-27T11:41:20.010137Z",
     "iopub.status.busy": "2024-04-27T11:41:20.009724Z",
     "iopub.status.idle": "2024-04-27T11:41:20.034398Z",
     "shell.execute_reply": "2024-04-27T11:41:20.032707Z"
    },
    "papermill": {
     "duration": 0.037359,
     "end_time": "2024-04-27T11:41:20.037276",
     "exception": false,
     "start_time": "2024-04-27T11:41:19.999917",
     "status": "completed"
    },
    "tags": []
   },
   "outputs": [
    {
     "data": {
      "application/javascript": [
       "parent.postMessage({\"jupyterEvent\": \"custom.exercise_interaction\", \"data\": {\"outcomeType\": 1, \"valueTowardsCompletion\": 0.25, \"interactionType\": 1, \"questionType\": 1, \"questionId\": \"2_RenameIndex\", \"learnToolsVersion\": \"0.3.4\", \"failureMessage\": \"\", \"exceptionClass\": \"\", \"trace\": \"\"}}, \"*\")"
      ],
      "text/plain": [
       "<IPython.core.display.Javascript object>"
      ]
     },
     "metadata": {},
     "output_type": "display_data"
    },
    {
     "data": {
      "text/markdown": [
       "<span style=\"color:#33cc33\">Correct</span>"
      ],
      "text/plain": [
       "Correct"
      ]
     },
     "metadata": {},
     "output_type": "display_data"
    }
   ],
   "source": [
    "reindexed = reviews.rename_axis(\"wines\", axis='rows')\n",
    "\n",
    "# Check your answer\n",
    "q2.check()"
   ]
  },
  {
   "cell_type": "code",
   "execution_count": 6,
   "id": "7152bc18",
   "metadata": {
    "execution": {
     "iopub.execute_input": "2024-04-27T11:41:20.062467Z",
     "iopub.status.busy": "2024-04-27T11:41:20.061271Z",
     "iopub.status.idle": "2024-04-27T11:41:20.067400Z",
     "shell.execute_reply": "2024-04-27T11:41:20.066610Z"
    },
    "papermill": {
     "duration": 0.022717,
     "end_time": "2024-04-27T11:41:20.070868",
     "exception": false,
     "start_time": "2024-04-27T11:41:20.048151",
     "status": "completed"
    },
    "tags": []
   },
   "outputs": [],
   "source": [
    "#q2.hint()\n",
    "#q2.solution()"
   ]
  },
  {
   "cell_type": "markdown",
   "id": "0ee81c53",
   "metadata": {
    "papermill": {
     "duration": 0.010343,
     "end_time": "2024-04-27T11:41:20.094449",
     "exception": false,
     "start_time": "2024-04-27T11:41:20.084106",
     "status": "completed"
    },
    "tags": []
   },
   "source": [
    "## 3.\n",
    "The [Things on Reddit](https://www.kaggle.com/residentmario/things-on-reddit/data) dataset includes product links from a selection of top-ranked forums (\"subreddits\") on reddit.com. Run the cell below to load a dataframe of products mentioned on the */r/gaming* subreddit and another dataframe for products mentioned on the *r//movies* subreddit."
   ]
  },
  {
   "cell_type": "code",
   "execution_count": 7,
   "id": "d2770166",
   "metadata": {
    "execution": {
     "iopub.execute_input": "2024-04-27T11:41:20.115396Z",
     "iopub.status.busy": "2024-04-27T11:41:20.114993Z",
     "iopub.status.idle": "2024-04-27T11:41:20.130396Z",
     "shell.execute_reply": "2024-04-27T11:41:20.128853Z"
    },
    "papermill": {
     "duration": 0.030003,
     "end_time": "2024-04-27T11:41:20.134930",
     "exception": false,
     "start_time": "2024-04-27T11:41:20.104927",
     "status": "completed"
    },
    "tags": []
   },
   "outputs": [],
   "source": [
    "gaming_products = pd.read_csv(\"../input/things-on-reddit/top-things/top-things/reddits/g/gaming.csv\")\n",
    "gaming_products['subreddit'] = \"r/gaming\"\n",
    "movie_products = pd.read_csv(\"../input/things-on-reddit/top-things/top-things/reddits/m/movies.csv\")\n",
    "movie_products['subreddit'] = \"r/movies\""
   ]
  },
  {
   "cell_type": "markdown",
   "id": "9bbe2f1b",
   "metadata": {
    "papermill": {
     "duration": 0.009201,
     "end_time": "2024-04-27T11:41:20.153760",
     "exception": false,
     "start_time": "2024-04-27T11:41:20.144559",
     "status": "completed"
    },
    "tags": []
   },
   "source": [
    "Create a `DataFrame` of products mentioned on *either* subreddit."
   ]
  },
  {
   "cell_type": "code",
   "execution_count": 8,
   "id": "0011bbfc",
   "metadata": {
    "execution": {
     "iopub.execute_input": "2024-04-27T11:41:20.176631Z",
     "iopub.status.busy": "2024-04-27T11:41:20.176242Z",
     "iopub.status.idle": "2024-04-27T11:41:20.188611Z",
     "shell.execute_reply": "2024-04-27T11:41:20.187474Z"
    },
    "papermill": {
     "duration": 0.027911,
     "end_time": "2024-04-27T11:41:20.191105",
     "exception": false,
     "start_time": "2024-04-27T11:41:20.163194",
     "status": "completed"
    },
    "tags": []
   },
   "outputs": [
    {
     "data": {
      "application/javascript": [
       "parent.postMessage({\"jupyterEvent\": \"custom.exercise_interaction\", \"data\": {\"outcomeType\": 1, \"valueTowardsCompletion\": 0.25, \"interactionType\": 1, \"questionType\": 2, \"questionId\": \"3_ConcatReddit\", \"learnToolsVersion\": \"0.3.4\", \"failureMessage\": \"\", \"exceptionClass\": \"\", \"trace\": \"\"}}, \"*\")"
      ],
      "text/plain": [
       "<IPython.core.display.Javascript object>"
      ]
     },
     "metadata": {},
     "output_type": "display_data"
    },
    {
     "data": {
      "text/markdown": [
       "<span style=\"color:#33cc33\">Correct</span>"
      ],
      "text/plain": [
       "Correct"
      ]
     },
     "metadata": {},
     "output_type": "display_data"
    }
   ],
   "source": [
    "combined_products = pd.concat([gaming_products, movie_products])\n",
    "\n",
    "# Check your answer\n",
    "q3.check()"
   ]
  },
  {
   "cell_type": "code",
   "execution_count": 9,
   "id": "34f6f2d2",
   "metadata": {
    "execution": {
     "iopub.execute_input": "2024-04-27T11:41:20.216086Z",
     "iopub.status.busy": "2024-04-27T11:41:20.215706Z",
     "iopub.status.idle": "2024-04-27T11:41:20.220362Z",
     "shell.execute_reply": "2024-04-27T11:41:20.218974Z"
    },
    "papermill": {
     "duration": 0.020452,
     "end_time": "2024-04-27T11:41:20.222762",
     "exception": false,
     "start_time": "2024-04-27T11:41:20.202310",
     "status": "completed"
    },
    "tags": []
   },
   "outputs": [],
   "source": [
    "#q3.hint()\n",
    "#q3.solution()"
   ]
  },
  {
   "cell_type": "markdown",
   "id": "7d56e4b5",
   "metadata": {
    "papermill": {
     "duration": 0.008801,
     "end_time": "2024-04-27T11:41:20.240793",
     "exception": false,
     "start_time": "2024-04-27T11:41:20.231992",
     "status": "completed"
    },
    "tags": []
   },
   "source": [
    "## 4.\n",
    "The [Powerlifting Database](https://www.kaggle.com/open-powerlifting/powerlifting-database) dataset on Kaggle includes one CSV table for powerlifting meets and a separate one for powerlifting competitors. Run the cell below to load these datasets into dataframes:"
   ]
  },
  {
   "cell_type": "code",
   "execution_count": 10,
   "id": "496bf08f",
   "metadata": {
    "execution": {
     "iopub.execute_input": "2024-04-27T11:41:20.260890Z",
     "iopub.status.busy": "2024-04-27T11:41:20.260208Z",
     "iopub.status.idle": "2024-04-27T11:41:21.326546Z",
     "shell.execute_reply": "2024-04-27T11:41:21.325649Z"
    },
    "papermill": {
     "duration": 1.079444,
     "end_time": "2024-04-27T11:41:21.329364",
     "exception": false,
     "start_time": "2024-04-27T11:41:20.249920",
     "status": "completed"
    },
    "tags": []
   },
   "outputs": [],
   "source": [
    "powerlifting_meets = pd.read_csv(\"../input/powerlifting-database/meets.csv\")\n",
    "powerlifting_competitors = pd.read_csv(\"../input/powerlifting-database/openpowerlifting.csv\")"
   ]
  },
  {
   "cell_type": "markdown",
   "id": "655e1e66",
   "metadata": {
    "papermill": {
     "duration": 0.008784,
     "end_time": "2024-04-27T11:41:21.347275",
     "exception": false,
     "start_time": "2024-04-27T11:41:21.338491",
     "status": "completed"
    },
    "tags": []
   },
   "source": [
    "Both tables include references to a `MeetID`, a unique key for each meet (competition) included in the database. Using this, generate a dataset combining the two tables into one."
   ]
  },
  {
   "cell_type": "code",
   "execution_count": 11,
   "id": "97288c99",
   "metadata": {
    "execution": {
     "iopub.execute_input": "2024-04-27T11:41:21.368369Z",
     "iopub.status.busy": "2024-04-27T11:41:21.367517Z",
     "iopub.status.idle": "2024-04-27T11:41:22.643123Z",
     "shell.execute_reply": "2024-04-27T11:41:22.641833Z"
    },
    "papermill": {
     "duration": 1.288776,
     "end_time": "2024-04-27T11:41:22.645695",
     "exception": false,
     "start_time": "2024-04-27T11:41:21.356919",
     "status": "completed"
    },
    "tags": []
   },
   "outputs": [
    {
     "data": {
      "application/javascript": [
       "parent.postMessage({\"jupyterEvent\": \"custom.exercise_interaction\", \"data\": {\"outcomeType\": 1, \"valueTowardsCompletion\": 0.25, \"interactionType\": 1, \"questionType\": 2, \"questionId\": \"4_JoinLifting\", \"learnToolsVersion\": \"0.3.4\", \"failureMessage\": \"\", \"exceptionClass\": \"\", \"trace\": \"\"}}, \"*\")"
      ],
      "text/plain": [
       "<IPython.core.display.Javascript object>"
      ]
     },
     "metadata": {},
     "output_type": "display_data"
    },
    {
     "data": {
      "text/markdown": [
       "<span style=\"color:#33cc33\">Correct</span>"
      ],
      "text/plain": [
       "Correct"
      ]
     },
     "metadata": {},
     "output_type": "display_data"
    }
   ],
   "source": [
    "powerlifting_combined = powerlifting_meets.set_index(\"MeetID\").join(powerlifting_competitors.set_index(\"MeetID\"))\n",
    "\n",
    "# Check your answer\n",
    "q4.check()"
   ]
  },
  {
   "cell_type": "code",
   "execution_count": 12,
   "id": "0007735c",
   "metadata": {
    "execution": {
     "iopub.execute_input": "2024-04-27T11:41:22.666490Z",
     "iopub.status.busy": "2024-04-27T11:41:22.665547Z",
     "iopub.status.idle": "2024-04-27T11:41:22.670937Z",
     "shell.execute_reply": "2024-04-27T11:41:22.669644Z"
    },
    "papermill": {
     "duration": 0.018679,
     "end_time": "2024-04-27T11:41:22.673590",
     "exception": false,
     "start_time": "2024-04-27T11:41:22.654911",
     "status": "completed"
    },
    "tags": []
   },
   "outputs": [],
   "source": [
    "# q4.hint()\n",
    "# q4.solution()"
   ]
  },
  {
   "cell_type": "markdown",
   "id": "b13a208e",
   "metadata": {
    "papermill": {
     "duration": 0.009046,
     "end_time": "2024-04-27T11:41:22.692236",
     "exception": false,
     "start_time": "2024-04-27T11:41:22.683190",
     "status": "completed"
    },
    "tags": []
   },
   "source": [
    "# Congratulations!\n",
    "\n",
    "You've finished the Pandas micro-course.  Many data scientists feel efficiency with Pandas is the most useful and practical skill they have, because it allows you to progress quickly in any project you have.\n",
    "\n",
    "If you'd like to apply your new skills to examining geospatial data, you're encouraged to check out our **[Geospatial Analysis](https://www.kaggle.com/learn/geospatial-analysis)** micro-course.\n",
    "\n",
    "You can also take advantage of your Pandas skills by entering a **[Kaggle Competition](https://www.kaggle.com/competitions)** or by answering a question you find interesting using **[Kaggle Datasets](https://www.kaggle.com/datasets)**."
   ]
  },
  {
   "cell_type": "markdown",
   "id": "2392b6b6",
   "metadata": {
    "papermill": {
     "duration": 0.008891,
     "end_time": "2024-04-27T11:41:22.710481",
     "exception": false,
     "start_time": "2024-04-27T11:41:22.701590",
     "status": "completed"
    },
    "tags": []
   },
   "source": [
    "---\n",
    "\n",
    "\n",
    "\n",
    "\n",
    "*Have questions or comments? Visit the [course discussion forum](https://www.kaggle.com/learn/pandas/discussion) to chat with other learners.*"
   ]
  }
 ],
 "metadata": {
  "kaggle": {
   "accelerator": "none",
   "dataSources": [
    {
     "datasetId": 655,
     "sourceId": 1252,
     "sourceType": "datasetVersion"
    },
    {
     "datasetId": 2321,
     "sourceId": 3919,
     "sourceType": "datasetVersion"
    },
    {
     "datasetId": 2894,
     "sourceId": 4877,
     "sourceType": "datasetVersion"
    },
    {
     "datasetId": 3491,
     "sourceId": 5624,
     "sourceType": "datasetVersion"
    },
    {
     "datasetId": 1442,
     "sourceId": 8172,
     "sourceType": "datasetVersion"
    },
    {
     "datasetId": 9366,
     "sourceId": 13206,
     "sourceType": "datasetVersion"
    },
    {
     "datasetId": 179555,
     "sourceId": 403916,
     "sourceType": "datasetVersion"
    },
    {
     "datasetId": 4549,
     "sourceId": 466349,
     "sourceType": "datasetVersion"
    },
    {
     "datasetId": 2478,
     "sourceId": 1151655,
     "sourceType": "datasetVersion"
    },
    {
     "datasetId": 10128,
     "sourceId": 5438389,
     "sourceType": "datasetVersion"
    }
   ],
   "isGpuEnabled": false,
   "isInternetEnabled": false,
   "language": "python",
   "sourceType": "notebook"
  },
  "kernelspec": {
   "display_name": "Python 3",
   "language": "python",
   "name": "python3"
  },
  "language_info": {
   "codemirror_mode": {
    "name": "ipython",
    "version": 3
   },
   "file_extension": ".py",
   "mimetype": "text/x-python",
   "name": "python",
   "nbconvert_exporter": "python",
   "pygments_lexer": "ipython3",
   "version": "3.10.13"
  },
  "papermill": {
   "default_parameters": {},
   "duration": 12.578462,
   "end_time": "2024-04-27T11:41:23.341409",
   "environment_variables": {},
   "exception": null,
   "input_path": "__notebook__.ipynb",
   "output_path": "__notebook__.ipynb",
   "parameters": {},
   "start_time": "2024-04-27T11:41:10.762947",
   "version": "2.5.0"
  }
 },
 "nbformat": 4,
 "nbformat_minor": 5
}
